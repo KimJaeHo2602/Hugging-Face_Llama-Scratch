{
 "cells": [
  {
   "cell_type": "markdown",
   "id": "c720dd14",
   "metadata": {},
   "source": [
    "# load pretrained model"
   ]
  },
  {
   "cell_type": "markdown",
   "id": "b4e847e9",
   "metadata": {},
   "source": [
    "1. Misra, Rishabh. \"News Category Dataset.\" arXiv preprint arXiv:2209.11429 (2022).\n",
    "2. Misra, Rishabh and Jigyasa Grover. \"Sculpting Data for ML: The first act of Machine Learning.\" ISBN 9798585463570 (2021).\n"
   ]
  },
  {
   "cell_type": "code",
   "execution_count": 1,
   "id": "271860d6",
   "metadata": {},
   "outputs": [
    {
     "data": {
      "text/plain": [
       "device(type='cuda')"
      ]
     },
     "execution_count": 1,
     "metadata": {},
     "output_type": "execute_result"
    }
   ],
   "source": [
    "import torch\n",
    "\n",
    "device = torch.device('cuda' if torch.cuda.is_available() else 'cpu')\n",
    "device"
   ]
  },
  {
   "cell_type": "code",
   "execution_count": 2,
   "id": "b3811320",
   "metadata": {},
   "outputs": [
    {
     "data": {
      "text/plain": [
       "0"
      ]
     },
     "execution_count": 2,
     "metadata": {},
     "output_type": "execute_result"
    }
   ],
   "source": [
    "from transformers import LlamaForCausalLM\n",
    "from transformers import AutoTokenizer\n",
    "\n",
    "tokenizer = AutoTokenizer.from_pretrained(\"daily_tokenizer_0612\")\n",
    "model = LlamaForCausalLM.from_pretrained('daily_llama_0612')\n",
    "\n",
    "model.to(device)\n",
    "0"
   ]
  },
  {
   "cell_type": "code",
   "execution_count": 3,
   "id": "6be550d8",
   "metadata": {},
   "outputs": [
    {
     "data": {
      "text/plain": [
       "0"
      ]
     },
     "execution_count": 3,
     "metadata": {},
     "output_type": "execute_result"
    }
   ],
   "source": [
    "model_fake = LlamaForCausalLM.from_pretrained('fake_detect_llama')\n",
    "\n",
    "model_fake.to(device)\n",
    "model_fake.eval()\n",
    "0"
   ]
  },
  {
   "cell_type": "code",
   "execution_count": 4,
   "id": "3dcb0b6c",
   "metadata": {},
   "outputs": [
    {
     "name": "stderr",
     "output_type": "stream",
     "text": [
      "C:\\Users\\82103\\anaconda3\\Lib\\site-packages\\transformers\\models\\llama\\modeling_llama.py:670: UserWarning: 1Torch was not compiled with flash attention. (Triggered internally at ..\\aten\\src\\ATen\\native\\transformers\\cuda\\sdp_utils.cpp:263.)\n",
      "  attn_output = torch.nn.functional.scaled_dot_product_attention(\n"
     ]
    },
    {
     "name": "stdout",
     "output_type": "stream",
     "text": [
      "Return True if the given article is fake. article: Boeing CEO says he assured Trump about Air Force One costs answer: True answer: True answer: True answer: True if the given article is fake. article:  answer: False-W\n"
     ]
    }
   ],
   "source": [
    "prompt = \"\"\"Return True if the given article is fake. article: Boeing CEO says he assured Trump about Air Force One costs answer:\"\"\"\n",
    "\n",
    "inputs = tokenizer(prompt, return_tensors=\"pt\")\n",
    "inputs.to(device)\n",
    "\n",
    "# Generate\n",
    "generate_ids = model_fake.generate(inputs.input_ids, max_length=50)\n",
    "output = tokenizer.batch_decode(generate_ids, skip_special_tokens=True, clean_up_tokenization_spaces=False)[0]\n",
    "\n",
    "print(output)"
   ]
  },
  {
   "cell_type": "code",
   "execution_count": 5,
   "id": "22f5da1e",
   "metadata": {},
   "outputs": [
    {
     "data": {
      "text/plain": [
       "'What is the topic of the collowing article? article: Boeing CEO says he assured Trump about Air Force One costs answer: True answer: True answer'"
      ]
     },
     "execution_count": 5,
     "metadata": {},
     "output_type": "execute_result"
    }
   ],
   "source": [
    "model_fake.eval()\n",
    "\n",
    "prompt = \"\"\"What is the topic of the collowing article? article: Boeing CEO says he assured Trump about Air Force One costs answer:\"\"\"\n",
    "inputs = tokenizer(prompt, return_tensors=\"pt\")\n",
    "inputs.to(device)\n",
    "\n",
    "# Generate\n",
    "generate_ids = model_fake.generate(inputs.input_ids, max_length=30)\n",
    "tokenizer.batch_decode(generate_ids, skip_special_tokens=True, \n",
    "                    clean_up_tokenization_spaces=False)[0]\n"
   ]
  },
  {
   "cell_type": "code",
   "execution_count": 6,
   "id": "10b676c3",
   "metadata": {},
   "outputs": [
    {
     "data": {
      "text/plain": [
       "'What is the topic of the collowing article? article: Boeing CEO says he assured Trump about Air Force One costs answer: True answer: True answer: True answer: False-Wing answer: False-Wing answer: False-Wing answer: False-Wing answer: False-Wing-Wing-Wing-Wing-Wing-Wing-Wing-Wing-Wing-Wing-Wing-Wing-Wing-W'"
      ]
     },
     "execution_count": 6,
     "metadata": {},
     "output_type": "execute_result"
    }
   ],
   "source": [
    "model.eval()\n",
    "\n",
    "prompt = \"\"\"\\\n",
    "What is the topic of the collowing article? article: Boeing CEO says he assured Trump about Air Force One costs answer:\"\"\"\n",
    "inputs = tokenizer(prompt, return_tensors=\"pt\")\n",
    "inputs.to(device)\n",
    "\n",
    "# Generate\n",
    "generate_ids = model.generate(inputs.input_ids, max_length=100)\n",
    "tokenizer.batch_decode(generate_ids, skip_special_tokens=True, \n",
    "                    clean_up_tokenization_spaces=False)[0]\n"
   ]
  },
  {
   "cell_type": "markdown",
   "id": "158abce5",
   "metadata": {},
   "source": [
    "## load dataset"
   ]
  },
  {
   "cell_type": "code",
   "execution_count": 7,
   "id": "656b2aae",
   "metadata": {},
   "outputs": [
    {
     "data": {
      "text/plain": [
       "DatasetDict({\n",
       "    train: Dataset({\n",
       "        features: ['link', 'headline', 'category', 'short_description', 'authors', 'date'],\n",
       "        num_rows: 83878\n",
       "    })\n",
       "})"
      ]
     },
     "execution_count": 7,
     "metadata": {},
     "output_type": "execute_result"
    }
   ],
   "source": [
    "from datasets import load_dataset\n",
    "data = 'heegyu/news-category-balanced-top10'\n",
    "dataset = load_dataset(data)\n",
    "\n",
    "dataset"
   ]
  },
  {
   "cell_type": "code",
   "execution_count": 8,
   "id": "56f76518",
   "metadata": {},
   "outputs": [
    {
     "data": {
      "text/plain": [
       "{'link': 'https://www.huffpost.com/entry/rei-workers-berkeley-store-union_n_6307a5f4e4b0f72c09ded80d',\n",
       " 'headline': 'REI Workers At Berkeley Store Vote To Unionize In Another Win For Labor',\n",
       " 'category': 'BUSINESS',\n",
       " 'short_description': 'They follow in the footsteps of REI workers in New York City who formed a union earlier this year.',\n",
       " 'authors': 'Dave Jamieson',\n",
       " 'date': 1661385600000}"
      ]
     },
     "execution_count": 8,
     "metadata": {},
     "output_type": "execute_result"
    }
   ],
   "source": [
    "dataset['train'][0]"
   ]
  },
  {
   "cell_type": "code",
   "execution_count": 9,
   "id": "27820127",
   "metadata": {},
   "outputs": [
    {
     "data": {
      "text/plain": [
       "{'link': Value(dtype='string', id=None),\n",
       " 'headline': Value(dtype='string', id=None),\n",
       " 'category': Value(dtype='string', id=None),\n",
       " 'short_description': Value(dtype='string', id=None),\n",
       " 'authors': Value(dtype='string', id=None),\n",
       " 'date': Value(dtype='int64', id=None)}"
      ]
     },
     "execution_count": 9,
     "metadata": {},
     "output_type": "execute_result"
    }
   ],
   "source": [
    "dataset['train'].features"
   ]
  },
  {
   "cell_type": "code",
   "execution_count": 10,
   "id": "72aabeca",
   "metadata": {},
   "outputs": [
    {
     "data": {
      "text/html": [
       "<div>\n",
       "<style scoped>\n",
       "    .dataframe tbody tr th:only-of-type {\n",
       "        vertical-align: middle;\n",
       "    }\n",
       "\n",
       "    .dataframe tbody tr th {\n",
       "        vertical-align: top;\n",
       "    }\n",
       "\n",
       "    .dataframe thead th {\n",
       "        text-align: right;\n",
       "    }\n",
       "</style>\n",
       "<table border=\"1\" class=\"dataframe\">\n",
       "  <thead>\n",
       "    <tr style=\"text-align: right;\">\n",
       "      <th></th>\n",
       "      <th>link</th>\n",
       "      <th>headline</th>\n",
       "      <th>category</th>\n",
       "      <th>short_description</th>\n",
       "      <th>authors</th>\n",
       "      <th>date</th>\n",
       "    </tr>\n",
       "  </thead>\n",
       "  <tbody>\n",
       "    <tr>\n",
       "      <th>0</th>\n",
       "      <td>https://www.huffpost.com/entry/rei-workers-ber...</td>\n",
       "      <td>REI Workers At Berkeley Store Vote To Unionize...</td>\n",
       "      <td>BUSINESS</td>\n",
       "      <td>They follow in the footsteps of REI workers in...</td>\n",
       "      <td>Dave Jamieson</td>\n",
       "      <td>1661385600000</td>\n",
       "    </tr>\n",
       "    <tr>\n",
       "      <th>1</th>\n",
       "      <td>https://www.huffpost.com/entry/twitter-elon-mu...</td>\n",
       "      <td>Twitter Lawyer Calls Elon Musk 'Committed Enem...</td>\n",
       "      <td>BUSINESS</td>\n",
       "      <td>Delaware Chancery Judge Kathaleen McCormick de...</td>\n",
       "      <td>Marita Vlachou</td>\n",
       "      <td>1658275200000</td>\n",
       "    </tr>\n",
       "    <tr>\n",
       "      <th>2</th>\n",
       "      <td>https://www.huffpost.com/entry/starbucks-leave...</td>\n",
       "      <td>Starbucks Leaving Russian Market, Shutting 130...</td>\n",
       "      <td>BUSINESS</td>\n",
       "      <td>Starbucks' move follows McDonald's exit from t...</td>\n",
       "      <td>DEE-ANN DURBIN, AP</td>\n",
       "      <td>1653264000000</td>\n",
       "    </tr>\n",
       "    <tr>\n",
       "      <th>3</th>\n",
       "      <td>https://www.huffpost.com/entry/coinbase-crypto...</td>\n",
       "      <td>Crypto Crash Leaves Trading Platform Coinbase ...</td>\n",
       "      <td>BUSINESS</td>\n",
       "      <td>Cryptocurrency trading platform Coinbase has l...</td>\n",
       "      <td>Matt Ott, AP</td>\n",
       "      <td>1652313600000</td>\n",
       "    </tr>\n",
       "    <tr>\n",
       "      <th>4</th>\n",
       "      <td>https://www.huffpost.com/entry/us-april-jobs-r...</td>\n",
       "      <td>US Added 428,000 Jobs In April Despite Surging...</td>\n",
       "      <td>BUSINESS</td>\n",
       "      <td>At 3.6%, unemployment nearly reached the lowes...</td>\n",
       "      <td>Paul Wiseman, AP</td>\n",
       "      <td>1651795200000</td>\n",
       "    </tr>\n",
       "    <tr>\n",
       "      <th>...</th>\n",
       "      <td>...</td>\n",
       "      <td>...</td>\n",
       "      <td>...</td>\n",
       "      <td>...</td>\n",
       "      <td>...</td>\n",
       "      <td>...</td>\n",
       "    </tr>\n",
       "    <tr>\n",
       "      <th>83873</th>\n",
       "      <td>https://www.huffingtonpost.com/entry/gratitude...</td>\n",
       "      <td>Flex Your Gratitude Muscle, and Lift Stress Away</td>\n",
       "      <td>WELLNESS</td>\n",
       "      <td>For most of us, giving comes a lot easier than...</td>\n",
       "      <td>meQuilibrium, Contributor\\nPersonalized Stress...</td>\n",
       "      <td>1369353600000</td>\n",
       "    </tr>\n",
       "    <tr>\n",
       "      <th>83874</th>\n",
       "      <td>https://www.huffingtonpost.com/entry/diabetes-...</td>\n",
       "      <td>Don't Wait to Prevent Diabetes: Start Today Wi...</td>\n",
       "      <td>WELLNESS</td>\n",
       "      <td>Small, reasonable changes can add up to a lot ...</td>\n",
       "      <td>Susan B. Dopart, MS, RD, CDE, Contributor\\nHea...</td>\n",
       "      <td>1355443200000</td>\n",
       "    </tr>\n",
       "    <tr>\n",
       "      <th>83875</th>\n",
       "      <td>https://www.huffingtonpost.com/entry/dream-lif...</td>\n",
       "      <td>The Real Reason You're Not Living Your Dream L...</td>\n",
       "      <td>WELLNESS</td>\n",
       "      <td>Excuses are artificial creations that mask the...</td>\n",
       "      <td>Alexis Sclamberg, Contributor\\nCEO &amp; Founder, ...</td>\n",
       "      <td>1346025600000</td>\n",
       "    </tr>\n",
       "    <tr>\n",
       "      <th>83876</th>\n",
       "      <td>https://www.huffingtonpost.com/entry/sugar-obe...</td>\n",
       "      <td>Is Sugar Making the World Fat, Diabetic, and H...</td>\n",
       "      <td>WELLNESS</td>\n",
       "      <td>The new study in Public Health Nutrition remin...</td>\n",
       "      <td>Ayala Laufer-Cahana, M.D., Contributor\\nPhysic...</td>\n",
       "      <td>1362096000000</td>\n",
       "    </tr>\n",
       "    <tr>\n",
       "      <th>83877</th>\n",
       "      <td>https://www.huffingtonpost.com/entry/detox-tip...</td>\n",
       "      <td>How Toxins Make You Fat: 4 Steps to Get Rid of...</td>\n",
       "      <td>WELLNESS</td>\n",
       "      <td>Don't let the word detoxification turn you off...</td>\n",
       "      <td>Mark Hyman, MD, Contributor\\nPracticing Physician</td>\n",
       "      <td>1330128000000</td>\n",
       "    </tr>\n",
       "  </tbody>\n",
       "</table>\n",
       "<p>83878 rows × 6 columns</p>\n",
       "</div>"
      ],
      "text/plain": [
       "                                                    link  \\\n",
       "0      https://www.huffpost.com/entry/rei-workers-ber...   \n",
       "1      https://www.huffpost.com/entry/twitter-elon-mu...   \n",
       "2      https://www.huffpost.com/entry/starbucks-leave...   \n",
       "3      https://www.huffpost.com/entry/coinbase-crypto...   \n",
       "4      https://www.huffpost.com/entry/us-april-jobs-r...   \n",
       "...                                                  ...   \n",
       "83873  https://www.huffingtonpost.com/entry/gratitude...   \n",
       "83874  https://www.huffingtonpost.com/entry/diabetes-...   \n",
       "83875  https://www.huffingtonpost.com/entry/dream-lif...   \n",
       "83876  https://www.huffingtonpost.com/entry/sugar-obe...   \n",
       "83877  https://www.huffingtonpost.com/entry/detox-tip...   \n",
       "\n",
       "                                                headline  category  \\\n",
       "0      REI Workers At Berkeley Store Vote To Unionize...  BUSINESS   \n",
       "1      Twitter Lawyer Calls Elon Musk 'Committed Enem...  BUSINESS   \n",
       "2      Starbucks Leaving Russian Market, Shutting 130...  BUSINESS   \n",
       "3      Crypto Crash Leaves Trading Platform Coinbase ...  BUSINESS   \n",
       "4      US Added 428,000 Jobs In April Despite Surging...  BUSINESS   \n",
       "...                                                  ...       ...   \n",
       "83873   Flex Your Gratitude Muscle, and Lift Stress Away  WELLNESS   \n",
       "83874  Don't Wait to Prevent Diabetes: Start Today Wi...  WELLNESS   \n",
       "83875  The Real Reason You're Not Living Your Dream L...  WELLNESS   \n",
       "83876  Is Sugar Making the World Fat, Diabetic, and H...  WELLNESS   \n",
       "83877  How Toxins Make You Fat: 4 Steps to Get Rid of...  WELLNESS   \n",
       "\n",
       "                                       short_description  \\\n",
       "0      They follow in the footsteps of REI workers in...   \n",
       "1      Delaware Chancery Judge Kathaleen McCormick de...   \n",
       "2      Starbucks' move follows McDonald's exit from t...   \n",
       "3      Cryptocurrency trading platform Coinbase has l...   \n",
       "4      At 3.6%, unemployment nearly reached the lowes...   \n",
       "...                                                  ...   \n",
       "83873  For most of us, giving comes a lot easier than...   \n",
       "83874  Small, reasonable changes can add up to a lot ...   \n",
       "83875  Excuses are artificial creations that mask the...   \n",
       "83876  The new study in Public Health Nutrition remin...   \n",
       "83877  Don't let the word detoxification turn you off...   \n",
       "\n",
       "                                                 authors           date  \n",
       "0                                          Dave Jamieson  1661385600000  \n",
       "1                                         Marita Vlachou  1658275200000  \n",
       "2                                     DEE-ANN DURBIN, AP  1653264000000  \n",
       "3                                           Matt Ott, AP  1652313600000  \n",
       "4                                       Paul Wiseman, AP  1651795200000  \n",
       "...                                                  ...            ...  \n",
       "83873  meQuilibrium, Contributor\\nPersonalized Stress...  1369353600000  \n",
       "83874  Susan B. Dopart, MS, RD, CDE, Contributor\\nHea...  1355443200000  \n",
       "83875  Alexis Sclamberg, Contributor\\nCEO & Founder, ...  1346025600000  \n",
       "83876  Ayala Laufer-Cahana, M.D., Contributor\\nPhysic...  1362096000000  \n",
       "83877  Mark Hyman, MD, Contributor\\nPracticing Physician  1330128000000  \n",
       "\n",
       "[83878 rows x 6 columns]"
      ]
     },
     "execution_count": 10,
     "metadata": {},
     "output_type": "execute_result"
    }
   ],
   "source": [
    "df = dataset['train'].to_pandas()\n",
    "df"
   ]
  },
  {
   "cell_type": "code",
   "execution_count": 11,
   "id": "f34da5a9",
   "metadata": {},
   "outputs": [
    {
     "data": {
      "text/plain": [
       "['BUSINESS',\n",
       " 'ENTERTAINMENT',\n",
       " 'FOOD & DRINK',\n",
       " 'HEALTHY LIVING',\n",
       " 'PARENTING',\n",
       " 'POLITICS',\n",
       " 'QUEER VOICES',\n",
       " 'STYLE & BEAUTY',\n",
       " 'TRAVEL',\n",
       " 'WELLNESS']"
      ]
     },
     "execution_count": 11,
     "metadata": {},
     "output_type": "execute_result"
    }
   ],
   "source": [
    "categories = df.category.unique().tolist()\n",
    "categories.sort()\n",
    "categories"
   ]
  },
  {
   "cell_type": "code",
   "execution_count": 12,
   "id": "91e69143",
   "metadata": {},
   "outputs": [],
   "source": [
    "categories = categories[:4]"
   ]
  },
  {
   "cell_type": "code",
   "execution_count": 13,
   "id": "93d8db35",
   "metadata": {},
   "outputs": [
    {
     "data": {
      "text/plain": [
       "DatasetDict({\n",
       "    train: Dataset({\n",
       "        features: ['link', 'headline', 'category', 'short_description', 'authors', 'date'],\n",
       "        num_rows: 29026\n",
       "    })\n",
       "})"
      ]
     },
     "execution_count": 13,
     "metadata": {},
     "output_type": "execute_result"
    }
   ],
   "source": [
    "dataset = dataset.filter(lambda element: element['category'] in categories)\n",
    "dataset"
   ]
  },
  {
   "cell_type": "code",
   "execution_count": 14,
   "id": "faa2fb0e",
   "metadata": {},
   "outputs": [
    {
     "data": {
      "text/plain": [
       "['business', 'entertainment', 'food', 'healthy']"
      ]
     },
     "execution_count": 14,
     "metadata": {},
     "output_type": "execute_result"
    }
   ],
   "source": [
    "categories = [x.split(' ')[0].lower() for x in categories[:5]]\n",
    "categories"
   ]
  },
  {
   "cell_type": "code",
   "execution_count": 15,
   "id": "0303baef",
   "metadata": {},
   "outputs": [],
   "source": [
    "int2label = {i: categories[i] for i in range(len(categories))}\n",
    "label2int = {int2label[key]:key for key in int2label}"
   ]
  },
  {
   "cell_type": "code",
   "execution_count": 16,
   "id": "77b69751",
   "metadata": {},
   "outputs": [
    {
     "data": {
      "text/plain": [
       "DatasetDict({\n",
       "    train: Dataset({\n",
       "        features: ['link', 'headline', 'category', 'short_description', 'authors', 'date', 'label'],\n",
       "        num_rows: 29026\n",
       "    })\n",
       "})"
      ]
     },
     "execution_count": 16,
     "metadata": {},
     "output_type": "execute_result"
    }
   ],
   "source": [
    "def gen_label(element):\n",
    "    category = element['category'].split(' ')[0].lower()\n",
    "    return {'label': label2int[category], 'category': category}\n",
    "\n",
    "dataset = dataset.map(gen_label)\n",
    "dataset"
   ]
  },
  {
   "cell_type": "code",
   "execution_count": 21,
   "id": "0e8b2456",
   "metadata": {},
   "outputs": [
    {
     "data": {
      "application/vnd.jupyter.widget-view+json": {
       "model_id": "5d170e83dc7e4162ac54494a81e6eefa",
       "version_major": 2,
       "version_minor": 0
      },
      "text/plain": [
       "Map:   0%|          | 0/29026 [00:00<?, ? examples/s]"
      ]
     },
     "metadata": {},
     "output_type": "display_data"
    }
   ],
   "source": [
    "from datasets import DatasetDict\n",
    "import random\n",
    "\n",
    "prompt_format1 = \"\"\"Given the article, what is the topic of the article? article: %s  answer: %s\"\"\"\n",
    "prompt_format2 = \"\"\"Determine the topic of the news article. article: %s answer: %s\"\"\"\n",
    "prompt_format3 = \"\"\"What is this article about? business/entertainment/food/healthy/parenting article: %s answer: %s\"\"\"\n",
    "\n",
    "prompts = [prompt_format1, prompt_format2, prompt_format3]\n",
    "\n",
    "def gen_prompt(element):\n",
    "    prompt_format = prompts[random.randint(0, len(prompts)-1)]\n",
    "    #return DatasetDict({'input': prompt_format%(element['headline'], int2label[element['category']])})\n",
    "    return DatasetDict({'input': prompt_format%(element['headline'], int2label[element['label']])})\n",
    "\n",
    "\n",
    "dataset = dataset.map(gen_prompt)"
   ]
  },
  {
   "cell_type": "code",
   "execution_count": 22,
   "id": "94963ca5",
   "metadata": {},
   "outputs": [
    {
     "data": {
      "text/html": [
       "<div>\n",
       "<style scoped>\n",
       "    .dataframe tbody tr th:only-of-type {\n",
       "        vertical-align: middle;\n",
       "    }\n",
       "\n",
       "    .dataframe tbody tr th {\n",
       "        vertical-align: top;\n",
       "    }\n",
       "\n",
       "    .dataframe thead th {\n",
       "        text-align: right;\n",
       "    }\n",
       "</style>\n",
       "<table border=\"1\" class=\"dataframe\">\n",
       "  <thead>\n",
       "    <tr style=\"text-align: right;\">\n",
       "      <th></th>\n",
       "      <th>link</th>\n",
       "      <th>headline</th>\n",
       "      <th>category</th>\n",
       "      <th>short_description</th>\n",
       "      <th>authors</th>\n",
       "      <th>date</th>\n",
       "      <th>label</th>\n",
       "      <th>input</th>\n",
       "    </tr>\n",
       "  </thead>\n",
       "  <tbody>\n",
       "    <tr>\n",
       "      <th>0</th>\n",
       "      <td>https://www.huffpost.com/entry/rei-workers-ber...</td>\n",
       "      <td>REI Workers At Berkeley Store Vote To Unionize...</td>\n",
       "      <td>business</td>\n",
       "      <td>They follow in the footsteps of REI workers in...</td>\n",
       "      <td>Dave Jamieson</td>\n",
       "      <td>1661385600000</td>\n",
       "      <td>0</td>\n",
       "      <td>Given the article, what is the topic of the ar...</td>\n",
       "    </tr>\n",
       "    <tr>\n",
       "      <th>1</th>\n",
       "      <td>https://www.huffpost.com/entry/twitter-elon-mu...</td>\n",
       "      <td>Twitter Lawyer Calls Elon Musk 'Committed Enem...</td>\n",
       "      <td>business</td>\n",
       "      <td>Delaware Chancery Judge Kathaleen McCormick de...</td>\n",
       "      <td>Marita Vlachou</td>\n",
       "      <td>1658275200000</td>\n",
       "      <td>0</td>\n",
       "      <td>Given the article, what is the topic of the ar...</td>\n",
       "    </tr>\n",
       "    <tr>\n",
       "      <th>2</th>\n",
       "      <td>https://www.huffpost.com/entry/starbucks-leave...</td>\n",
       "      <td>Starbucks Leaving Russian Market, Shutting 130...</td>\n",
       "      <td>business</td>\n",
       "      <td>Starbucks' move follows McDonald's exit from t...</td>\n",
       "      <td>DEE-ANN DURBIN, AP</td>\n",
       "      <td>1653264000000</td>\n",
       "      <td>0</td>\n",
       "      <td>Given the article, what is the topic of the ar...</td>\n",
       "    </tr>\n",
       "    <tr>\n",
       "      <th>3</th>\n",
       "      <td>https://www.huffpost.com/entry/coinbase-crypto...</td>\n",
       "      <td>Crypto Crash Leaves Trading Platform Coinbase ...</td>\n",
       "      <td>business</td>\n",
       "      <td>Cryptocurrency trading platform Coinbase has l...</td>\n",
       "      <td>Matt Ott, AP</td>\n",
       "      <td>1652313600000</td>\n",
       "      <td>0</td>\n",
       "      <td>Determine the topic of the news article. artic...</td>\n",
       "    </tr>\n",
       "    <tr>\n",
       "      <th>4</th>\n",
       "      <td>https://www.huffpost.com/entry/us-april-jobs-r...</td>\n",
       "      <td>US Added 428,000 Jobs In April Despite Surging...</td>\n",
       "      <td>business</td>\n",
       "      <td>At 3.6%, unemployment nearly reached the lowes...</td>\n",
       "      <td>Paul Wiseman, AP</td>\n",
       "      <td>1651795200000</td>\n",
       "      <td>0</td>\n",
       "      <td>Determine the topic of the news article. artic...</td>\n",
       "    </tr>\n",
       "    <tr>\n",
       "      <th>...</th>\n",
       "      <td>...</td>\n",
       "      <td>...</td>\n",
       "      <td>...</td>\n",
       "      <td>...</td>\n",
       "      <td>...</td>\n",
       "      <td>...</td>\n",
       "      <td>...</td>\n",
       "      <td>...</td>\n",
       "    </tr>\n",
       "    <tr>\n",
       "      <th>29021</th>\n",
       "      <td>https://www.huffingtonpost.com/entry/happy-hea...</td>\n",
       "      <td>Why You Need Both a 'Bouncer' and a 'Bartender...</td>\n",
       "      <td>healthy</td>\n",
       "      <td>Instead of judging whether you made the right ...</td>\n",
       "      <td>Elizabeth Grace Saunders, ContributorFounder, ...</td>\n",
       "      <td>1397779200000</td>\n",
       "      <td>3</td>\n",
       "      <td>Determine the topic of the news article. artic...</td>\n",
       "    </tr>\n",
       "    <tr>\n",
       "      <th>29022</th>\n",
       "      <td>https://www.huffingtonpost.com/entry/mental-il...</td>\n",
       "      <td>How Video Games Can Improve Dialogue on Mental...</td>\n",
       "      <td>healthy</td>\n",
       "      <td>While there are strong arguments for the games...</td>\n",
       "      <td>Mona Shattell, Contributornurse researcher</td>\n",
       "      <td>1397779200000</td>\n",
       "      <td>3</td>\n",
       "      <td>What is this article about? business/entertain...</td>\n",
       "    </tr>\n",
       "    <tr>\n",
       "      <th>29023</th>\n",
       "      <td>https://www.huffingtonpost.com/entry/wake-up-c...</td>\n",
       "      <td>Wake-Up Calls Inspired My Change From Overdriv...</td>\n",
       "      <td>healthy</td>\n",
       "      <td>My wake-up call marching orders were clear: No...</td>\n",
       "      <td>Jane Shure, ContributorLeadership Coach, Psych...</td>\n",
       "      <td>1397779200000</td>\n",
       "      <td>3</td>\n",
       "      <td>Determine the topic of the news article. artic...</td>\n",
       "    </tr>\n",
       "    <tr>\n",
       "      <th>29024</th>\n",
       "      <td>https://www.huffingtonpost.com/entry/narcissis...</td>\n",
       "      <td>Loving a Narcissist Without Losing Yourself</td>\n",
       "      <td>healthy</td>\n",
       "      <td>It is very difficult for some people to see an...</td>\n",
       "      <td>Nancy Colier, ContributorPsychotherapist, inte...</td>\n",
       "      <td>1397779200000</td>\n",
       "      <td>3</td>\n",
       "      <td>What is this article about? business/entertain...</td>\n",
       "    </tr>\n",
       "    <tr>\n",
       "      <th>29025</th>\n",
       "      <td>https://www.huffingtonpost.com/entry/happiness...</td>\n",
       "      <td>Reasons Not to Be Happy</td>\n",
       "      <td>healthy</td>\n",
       "      <td>Our thoughts and feelings are powerful, but ma...</td>\n",
       "      <td>Mindy Utay, Contributor\"Calming Life's Conflicts\"</td>\n",
       "      <td>1397779200000</td>\n",
       "      <td>3</td>\n",
       "      <td>What is this article about? business/entertain...</td>\n",
       "    </tr>\n",
       "  </tbody>\n",
       "</table>\n",
       "<p>29026 rows × 8 columns</p>\n",
       "</div>"
      ],
      "text/plain": [
       "                                                    link  \\\n",
       "0      https://www.huffpost.com/entry/rei-workers-ber...   \n",
       "1      https://www.huffpost.com/entry/twitter-elon-mu...   \n",
       "2      https://www.huffpost.com/entry/starbucks-leave...   \n",
       "3      https://www.huffpost.com/entry/coinbase-crypto...   \n",
       "4      https://www.huffpost.com/entry/us-april-jobs-r...   \n",
       "...                                                  ...   \n",
       "29021  https://www.huffingtonpost.com/entry/happy-hea...   \n",
       "29022  https://www.huffingtonpost.com/entry/mental-il...   \n",
       "29023  https://www.huffingtonpost.com/entry/wake-up-c...   \n",
       "29024  https://www.huffingtonpost.com/entry/narcissis...   \n",
       "29025  https://www.huffingtonpost.com/entry/happiness...   \n",
       "\n",
       "                                                headline  category  \\\n",
       "0      REI Workers At Berkeley Store Vote To Unionize...  business   \n",
       "1      Twitter Lawyer Calls Elon Musk 'Committed Enem...  business   \n",
       "2      Starbucks Leaving Russian Market, Shutting 130...  business   \n",
       "3      Crypto Crash Leaves Trading Platform Coinbase ...  business   \n",
       "4      US Added 428,000 Jobs In April Despite Surging...  business   \n",
       "...                                                  ...       ...   \n",
       "29021  Why You Need Both a 'Bouncer' and a 'Bartender...   healthy   \n",
       "29022  How Video Games Can Improve Dialogue on Mental...   healthy   \n",
       "29023  Wake-Up Calls Inspired My Change From Overdriv...   healthy   \n",
       "29024        Loving a Narcissist Without Losing Yourself   healthy   \n",
       "29025                            Reasons Not to Be Happy   healthy   \n",
       "\n",
       "                                       short_description  \\\n",
       "0      They follow in the footsteps of REI workers in...   \n",
       "1      Delaware Chancery Judge Kathaleen McCormick de...   \n",
       "2      Starbucks' move follows McDonald's exit from t...   \n",
       "3      Cryptocurrency trading platform Coinbase has l...   \n",
       "4      At 3.6%, unemployment nearly reached the lowes...   \n",
       "...                                                  ...   \n",
       "29021  Instead of judging whether you made the right ...   \n",
       "29022  While there are strong arguments for the games...   \n",
       "29023  My wake-up call marching orders were clear: No...   \n",
       "29024  It is very difficult for some people to see an...   \n",
       "29025  Our thoughts and feelings are powerful, but ma...   \n",
       "\n",
       "                                                 authors           date  \\\n",
       "0                                          Dave Jamieson  1661385600000   \n",
       "1                                         Marita Vlachou  1658275200000   \n",
       "2                                     DEE-ANN DURBIN, AP  1653264000000   \n",
       "3                                           Matt Ott, AP  1652313600000   \n",
       "4                                       Paul Wiseman, AP  1651795200000   \n",
       "...                                                  ...            ...   \n",
       "29021  Elizabeth Grace Saunders, ContributorFounder, ...  1397779200000   \n",
       "29022         Mona Shattell, Contributornurse researcher  1397779200000   \n",
       "29023  Jane Shure, ContributorLeadership Coach, Psych...  1397779200000   \n",
       "29024  Nancy Colier, ContributorPsychotherapist, inte...  1397779200000   \n",
       "29025  Mindy Utay, Contributor\"Calming Life's Conflicts\"  1397779200000   \n",
       "\n",
       "       label                                              input  \n",
       "0          0  Given the article, what is the topic of the ar...  \n",
       "1          0  Given the article, what is the topic of the ar...  \n",
       "2          0  Given the article, what is the topic of the ar...  \n",
       "3          0  Determine the topic of the news article. artic...  \n",
       "4          0  Determine the topic of the news article. artic...  \n",
       "...      ...                                                ...  \n",
       "29021      3  Determine the topic of the news article. artic...  \n",
       "29022      3  What is this article about? business/entertain...  \n",
       "29023      3  Determine the topic of the news article. artic...  \n",
       "29024      3  What is this article about? business/entertain...  \n",
       "29025      3  What is this article about? business/entertain...  \n",
       "\n",
       "[29026 rows x 8 columns]"
      ]
     },
     "execution_count": 22,
     "metadata": {},
     "output_type": "execute_result"
    }
   ],
   "source": [
    "dataset['train'].to_pandas()"
   ]
  },
  {
   "cell_type": "code",
   "execution_count": 23,
   "id": "f1aef24e",
   "metadata": {},
   "outputs": [],
   "source": [
    "dataset = dataset['train'].train_test_split(test_size=0.1)"
   ]
  },
  {
   "cell_type": "code",
   "execution_count": 24,
   "id": "07e6ab7e",
   "metadata": {},
   "outputs": [
    {
     "data": {
      "application/vnd.jupyter.widget-view+json": {
       "model_id": "37d86fb7deee4f128cec60c5883c7207",
       "version_major": 2,
       "version_minor": 0
      },
      "text/plain": [
       "Map:   0%|          | 0/26123 [00:00<?, ? examples/s]"
      ]
     },
     "metadata": {},
     "output_type": "display_data"
    },
    {
     "data": {
      "application/vnd.jupyter.widget-view+json": {
       "model_id": "729b692e13cd46f8b75bc88429423496",
       "version_major": 2,
       "version_minor": 0
      },
      "text/plain": [
       "Map:   0%|          | 0/2903 [00:00<?, ? examples/s]"
      ]
     },
     "metadata": {},
     "output_type": "display_data"
    },
    {
     "data": {
      "text/plain": [
       "DatasetDict({\n",
       "    train: Dataset({\n",
       "        features: ['input_ids'],\n",
       "        num_rows: 26123\n",
       "    })\n",
       "    test: Dataset({\n",
       "        features: ['input_ids'],\n",
       "        num_rows: 2903\n",
       "    })\n",
       "})"
      ]
     },
     "execution_count": 24,
     "metadata": {},
     "output_type": "execute_result"
    }
   ],
   "source": [
    "def tokenize(element):\n",
    "    tokenizer.pad_token = tokenizer.eos_token\n",
    "    outputs = tokenizer(\n",
    "        element['input'],\n",
    "        truncation=True,\n",
    "        max_length=context_length,\n",
    "        return_overflowing_tokens=False,\n",
    "        return_length=True,\n",
    "        padding=True\n",
    "    )\n",
    "    input_batch = []\n",
    "    for inputs, input_ids in zip(element[\"input\"], outputs[\"input_ids\"]):\n",
    "        input_batch.append(input_ids)\n",
    "    return {\"input_ids\": input_batch}\n",
    "\n",
    "\n",
    "context_length=128\n",
    "tokenized_datasets = dataset.map(\n",
    "    tokenize, batched=True, remove_columns=dataset['train'].column_names\n",
    ")\n",
    "tokenized_datasets"
   ]
  },
  {
   "cell_type": "markdown",
   "id": "97fe07f6",
   "metadata": {},
   "source": [
    "## train"
   ]
  },
  {
   "cell_type": "code",
   "execution_count": 25,
   "id": "d458ce61",
   "metadata": {},
   "outputs": [],
   "source": [
    "from transformers import DataCollatorForLanguageModeling\n",
    "\n",
    "tokenizer.pad_token = tokenizer.eos_token\n",
    "data_collator = DataCollatorForLanguageModeling(tokenizer, mlm=False)"
   ]
  },
  {
   "cell_type": "code",
   "execution_count": 26,
   "id": "30adf6f0",
   "metadata": {},
   "outputs": [
    {
     "name": "stdout",
     "output_type": "stream",
     "text": [
      "input_ids shape: torch.Size([5, 55])\n",
      "attention_mask shape: torch.Size([5, 55])\n",
      "labels shape: torch.Size([5, 55])\n"
     ]
    }
   ],
   "source": [
    "out = data_collator([tokenized_datasets['train'][i] for i in range(5)])\n",
    "for key in out:\n",
    "    print(f\"{key} shape: {out[key].shape}\")"
   ]
  },
  {
   "cell_type": "code",
   "execution_count": 27,
   "id": "06d7317d",
   "metadata": {},
   "outputs": [
    {
     "name": "stderr",
     "output_type": "stream",
     "text": [
      "C:\\Users\\82103\\anaconda3\\Lib\\site-packages\\accelerate\\accelerator.py:436: FutureWarning: Passing the following arguments to `Accelerator` is deprecated and will be removed in version 1.0 of Accelerate: dict_keys(['dispatch_batches', 'split_batches', 'even_batches', 'use_seedable_sampler']). Please pass an `accelerate.DataLoaderConfiguration` instead: \n",
      "dataloader_config = DataLoaderConfiguration(dispatch_batches=None, split_batches=False, even_batches=True, use_seedable_sampler=True)\n",
      "  warnings.warn(\n"
     ]
    }
   ],
   "source": [
    "from transformers import Trainer, TrainingArguments\n",
    "\n",
    "args = TrainingArguments(\n",
    "    output_dir=\"topic_llama\",\n",
    "    per_device_train_batch_size=4,\n",
    "    per_device_eval_batch_size=4,\n",
    "    evaluation_strategy=\"steps\",\n",
    "    eval_steps=500,\n",
    "    logging_steps=500,\n",
    "    gradient_accumulation_steps=8,\n",
    "    num_train_epochs=1,\n",
    "    weight_decay=0.1,\n",
    "    warmup_steps=500,\n",
    "    lr_scheduler_type=\"cosine\",\n",
    "    learning_rate=5e-4,\n",
    "    save_steps=500,\n",
    "    fp16=True,\n",
    "    push_to_hub=False,\n",
    ")\n",
    "\n",
    "trainer = Trainer(\n",
    "    model=model,\n",
    "    tokenizer=tokenizer,\n",
    "    args=args,\n",
    "    data_collator=data_collator,\n",
    "    train_dataset=tokenized_datasets[\"train\"],\n",
    "    eval_dataset=tokenized_datasets[\"test\"],\n",
    ")"
   ]
  },
  {
   "cell_type": "code",
   "execution_count": 28,
   "id": "175d6750",
   "metadata": {},
   "outputs": [
    {
     "data": {
      "text/html": [
       "\n",
       "    <div>\n",
       "      \n",
       "      <progress value='816' max='816' style='width:300px; height:20px; vertical-align: middle;'></progress>\n",
       "      [816/816 03:40, Epoch 0/1]\n",
       "    </div>\n",
       "    <table border=\"1\" class=\"dataframe\">\n",
       "  <thead>\n",
       " <tr style=\"text-align: left;\">\n",
       "      <th>Step</th>\n",
       "      <th>Training Loss</th>\n",
       "      <th>Validation Loss</th>\n",
       "    </tr>\n",
       "  </thead>\n",
       "  <tbody>\n",
       "    <tr>\n",
       "      <td>500</td>\n",
       "      <td>2.797000</td>\n",
       "      <td>2.487400</td>\n",
       "    </tr>\n",
       "  </tbody>\n",
       "</table><p>"
      ],
      "text/plain": [
       "<IPython.core.display.HTML object>"
      ]
     },
     "metadata": {},
     "output_type": "display_data"
    },
    {
     "data": {
      "text/plain": [
       "TrainOutput(global_step=816, training_loss=2.642992431042241, metrics={'train_runtime': 221.5971, 'train_samples_per_second': 117.885, 'train_steps_per_second': 3.682, 'total_flos': 363222179389440.0, 'train_loss': 2.642992431042241, 'epoch': 1.0})"
      ]
     },
     "execution_count": 28,
     "metadata": {},
     "output_type": "execute_result"
    }
   ],
   "source": [
    "trainer.train()"
   ]
  },
  {
   "cell_type": "markdown",
   "id": "edfbce00",
   "metadata": {},
   "source": [
    "## evaluate"
   ]
  },
  {
   "cell_type": "code",
   "execution_count": 29,
   "id": "73cd34a0",
   "metadata": {},
   "outputs": [
    {
     "name": "stdout",
     "output_type": "stream",
     "text": [
      "Determine the topic of the news article. article: Bikini'd Kate Hudson Hits The Beach With Chris Martin answer: entertainment answer: entertainment\n"
     ]
    }
   ],
   "source": [
    "prompt = \"\"\"Determine the topic of the news article. article: Bikini'd Kate Hudson Hits The Beach With Chris Martin answer:\"\"\"\n",
    "\n",
    "inputs = tokenizer(prompt, return_tensors=\"pt\")\n",
    "inputs.to(\"cuda:0\")\n",
    "\n",
    "# Generate\n",
    "generate_ids = model.generate(inputs.input_ids, max_length=30)\n",
    "output = tokenizer.batch_decode(generate_ids, skip_special_tokens=True, clean_up_tokenization_spaces=False)[0]\n",
    "\n",
    "print(output)"
   ]
  },
  {
   "cell_type": "code",
   "execution_count": 30,
   "id": "9be6d35d-5d0d-4470-b584-3554361291a6",
   "metadata": {},
   "outputs": [
    {
     "data": {
      "text/plain": [
       "\"Given the article, what is the topic of the article? article: RIP Bob Schiller: Radio Writing Wasn't Working, So He Sent Lucy Out to Stomp Some Grapes  answer: entertainment\""
      ]
     },
     "execution_count": 30,
     "metadata": {},
     "output_type": "execute_result"
    }
   ],
   "source": [
    "dataset['test'][222]['input']"
   ]
  },
  {
   "cell_type": "code",
   "execution_count": 31,
   "id": "168fc9ef-d50e-4225-8d90-a21c446879b3",
   "metadata": {},
   "outputs": [
    {
     "name": "stdout",
     "output_type": "stream",
     "text": [
      "Given the article, what is the topic of the article? article: This Simple Menu Change Could Finally Get Us To Stop Overeating  answer: healthy  answer: healthy  answer: healthy  answer: healthy  answer: healthy  answer:\n"
     ]
    }
   ],
   "source": [
    "prompt = \"Given the article, what is the topic of the article? article: This Simple Menu Change Could Finally Get Us To Stop Overeating  answer:\"\n",
    "\n",
    "inputs = tokenizer(prompt, return_tensors=\"pt\")\n",
    "inputs.to(\"cuda:0\")\n",
    "\n",
    "# Generate\n",
    "generate_ids = model.generate(inputs.input_ids, max_length=50)\n",
    "output = tokenizer.batch_decode(generate_ids, skip_special_tokens=True, clean_up_tokenization_spaces=False)[0]\n",
    "\n",
    "print(output)"
   ]
  },
  {
   "cell_type": "code",
   "execution_count": 32,
   "id": "f04e3800-3ea1-4318-95f1-208b79161fb8",
   "metadata": {},
   "outputs": [
    {
     "data": {
      "text/plain": [
       "\"What is this article about? business/entertainment/food/healthy/parenting article: Hellmann's vs. Best Foods Mayonnaise: Is There A Difference? answer: food\""
      ]
     },
     "execution_count": 32,
     "metadata": {},
     "output_type": "execute_result"
    }
   ],
   "source": [
    "dataset['test'][104]['input']\n"
   ]
  },
  {
   "cell_type": "code",
   "execution_count": 33,
   "id": "99a4715e-65e3-4421-8957-8097405bb176",
   "metadata": {},
   "outputs": [
    {
     "name": "stdout",
     "output_type": "stream",
     "text": [
      "What is this article about? business/entertainment/food/healthy/parenting article: Kylie Jenner Wants You To Know She's Got 'Chunkiness,' Not Butt Implants, OK? answer: entertainment entertainment answer: entertainment\n"
     ]
    }
   ],
   "source": [
    "prompt = \"What is this article about? business/entertainment/food/healthy/parenting article: Kylie Jenner Wants You To Know She's Got 'Chunkiness,' Not Butt Implants, OK? answer:\"\n",
    "\n",
    "inputs = tokenizer(prompt, return_tensors=\"pt\")\n",
    "inputs.to(\"cuda:0\")\n",
    "\n",
    "# Generate\n",
    "generate_ids = model.generate(inputs.input_ids, max_length=50)\n",
    "output = tokenizer.batch_decode(generate_ids, skip_special_tokens=True, clean_up_tokenization_spaces=False)[0]\n",
    "\n",
    "print(output)"
   ]
  },
  {
   "cell_type": "code",
   "execution_count": 34,
   "id": "c1e47d33",
   "metadata": {},
   "outputs": [
    {
     "data": {
      "application/vnd.jupyter.widget-view+json": {
       "model_id": "b7513bc5612448fea6ded57fbbc6c128",
       "version_major": 2,
       "version_minor": 0
      },
      "text/plain": [
       "Map:   0%|          | 0/100 [00:00<?, ? examples/s]"
      ]
     },
     "metadata": {},
     "output_type": "display_data"
    },
    {
     "data": {
      "text/plain": [
       "{'link': 'https://www.huffingtonpost.com/entry/star-wars-stayin-alive_us_56795914e4b0b958f657ddfa',\n",
       " 'headline': \"'The Tonight Show' Creates Epic 'Star Wars'-'Stayin' Alive' Mashup\",\n",
       " 'category': 'entertainment',\n",
       " 'short_description': 'This is thankfully not a video about who does and does not stay alive in \"The Force Awakens.\"',\n",
       " 'authors': 'Todd Van Luling',\n",
       " 'date': 1450742400000,\n",
       " 'label': 1,\n",
       " 'input': \"What is this article about? business/entertainment/food/healthy/parenting article: 'The Tonight Show' Creates Epic 'Star Wars'-'Stayin' Alive' Mashup answer:\"}"
      ]
     },
     "execution_count": 34,
     "metadata": {},
     "output_type": "execute_result"
    }
   ],
   "source": [
    "tokenizer = AutoTokenizer.from_pretrained(\"daily_tokenizer_0612\", padding_side='left')\n",
    "prompt_format1 = \"\"\"Given the article, what is the topic of the article? article: %s  answer:\"\"\"\n",
    "prompt_format2 = \"\"\"Determine the topic of the news article. article: %s answer:\"\"\"\n",
    "prompt_format3 = \"\"\"What is this article about? business/entertainment/food/healthy/parenting article: %s answer:\"\"\"\n",
    "\n",
    "prompts = [prompt_format1, prompt_format2, prompt_format3]\n",
    "\n",
    "def gen_valid_prompt(element):\n",
    "    prompt_format = prompts[random.randint(0, len(prompts)-1)]\n",
    "    return DatasetDict({'input': prompt_format%(element['headline'])})\n",
    "\n",
    "\n",
    "\n",
    "\n",
    "valid_dataset = dataset['test'].select(range(100)).map(gen_valid_prompt)\n",
    "valid_dataset[0]"
   ]
  },
  {
   "cell_type": "code",
   "execution_count": 35,
   "id": "926bfbbd",
   "metadata": {},
   "outputs": [
    {
     "data": {
      "text/plain": [
       "['link',\n",
       " 'headline',\n",
       " 'category',\n",
       " 'short_description',\n",
       " 'authors',\n",
       " 'date',\n",
       " 'label',\n",
       " 'input']"
      ]
     },
     "execution_count": 35,
     "metadata": {},
     "output_type": "execute_result"
    }
   ],
   "source": [
    "valid_dataset.column_names"
   ]
  },
  {
   "cell_type": "code",
   "execution_count": 36,
   "id": "67877781",
   "metadata": {},
   "outputs": [
    {
     "data": {
      "application/vnd.jupyter.widget-view+json": {
       "model_id": "2f9a8b0fd8194bd881af122b9d75938f",
       "version_major": 2,
       "version_minor": 0
      },
      "text/plain": [
       "Map:   0%|          | 0/100 [00:00<?, ? examples/s]"
      ]
     },
     "metadata": {},
     "output_type": "display_data"
    },
    {
     "data": {
      "text/plain": [
       "Dataset({\n",
       "    features: ['label', 'input_ids'],\n",
       "    num_rows: 100\n",
       "})"
      ]
     },
     "execution_count": 36,
     "metadata": {},
     "output_type": "execute_result"
    }
   ],
   "source": [
    "valid_dataset = valid_dataset.map(\n",
    "    tokenize, batched=True, remove_columns=['link', 'headline', 'category', 'short_description', 'authors', 'date', 'input']\n",
    ")\n",
    "valid_dataset"
   ]
  },
  {
   "cell_type": "code",
   "execution_count": 37,
   "id": "64c0cc42",
   "metadata": {},
   "outputs": [],
   "source": [
    "from torch.utils.data import DataLoader\n",
    "\n",
    "batch_size=4\n",
    "val_ds = valid_dataset\n",
    "val_ds.set_format(type='torch')\n",
    "val_dl = DataLoader(val_ds, batch_size=batch_size)"
   ]
  },
  {
   "cell_type": "code",
   "execution_count": 38,
   "id": "e07df029",
   "metadata": {},
   "outputs": [],
   "source": [
    "import re\n",
    "import torch\n",
    "from tqdm import tqdm\n",
    "\n",
    "def acc(pred,label):\n",
    "    return torch.sum(torch.tensor(pred) == label.squeeze()).item()\n"
   ]
  },
  {
   "cell_type": "code",
   "execution_count": 39,
   "id": "0b72e7b6",
   "metadata": {},
   "outputs": [
    {
     "name": "stderr",
     "output_type": "stream",
     "text": [
      "  0%|          | 0/25 [00:00<?, ?it/s]This is a friendly reminder - the current text generation call will exceed the model's predefined maximum length (128). Depending on the model, you may observe exceptions, performance degradation, or nothing at all.\n",
      "100%|██████████| 25/25 [00:24<00:00,  1.03it/s]"
     ]
    },
    {
     "name": "stdout",
     "output_type": "stream",
     "text": [
      "val acc:  0.0\n"
     ]
    },
    {
     "name": "stderr",
     "output_type": "stream",
     "text": [
      "\n"
     ]
    }
   ],
   "source": [
    "model_orig = LlamaForCausalLM.from_pretrained('daily_llama_0612')\n",
    "model_orig.to(device)\n",
    "model_orig.eval()\n",
    "\n",
    "val_losses = []\n",
    "val_acc = 0\n",
    "\n",
    "for step, batch in enumerate(tqdm(val_dl)):\n",
    "    label = batch['label']\n",
    "    input_id= batch['input_ids'].to(device)\n",
    "\n",
    "    pred = model_orig.generate(input_id, max_length=150)\n",
    "    decoded_pred = tokenizer.batch_decode(pred, skip_special_tokens=True, clean_up_tokenization_spaces=False)\n",
    "    decoded_pred = [re.findall(\"answer: ([a-z]+)\", x)[0] if re.findall(\"answer: ([a-z]+)\", x) else 'none' for x in decoded_pred]\n",
    "    decoded_pred = [label2int[x] if x in label2int else -1 for x in decoded_pred]\n",
    "\n",
    "    val_acc += acc(decoded_pred, label)\n",
    "    \n",
    "\n",
    "print(\"val acc: \", val_acc/len(val_dl.dataset))"
   ]
  },
  {
   "cell_type": "code",
   "execution_count": 40,
   "id": "1c4ca070",
   "metadata": {},
   "outputs": [
    {
     "data": {
      "text/plain": [
       "[\"Given the article, what is the topic of the article? article: 'The Interview': No Laughing Matter  answer: True if the given article is fake. article:  Trump’s ‘Dictators’ To ‘Dictators’ Him’s ‘Dictators’ To ‘Dictators’ (VIDEO) answer: False, But It’s A ‘Dictators’ answer: Falsely Takes Himself With A ‘Dictators’ answer: Falsely Takes Himself With The Most ‘Dictators’ To Help Them’ (VIDEO) answer: Falsely T\",\n",
       " 'Determine the topic of the news article. article: The Truth About Pumpkin Seeds Will Make You Want Them Even More answer: False, It’s A ‘Dreamer’  answer: Falsely Tells The Most ‘Dictators’ To Help Them  answer: Falsely Mocks Them In The Most ‘Drease’ Of The Most ‘Dictators’ To Help Them’ In The Most ‘Dictators’ To Help Them’ In The Most ‘Dictators’ To Help Them’ In The Most ‘Dictators’ To Help Them’ In The Most ‘',\n",
       " 'Determine the topic of the news article. article: 18 Tweets That Capture Carrie Fisher’s Mental Health Legacy answer: False,000  answer: False,000 Americans  answer: False,000 Americans  answer: False,000 Americans  answer: False,000 Americans  answer: False, But It’s ‘Drease’ To Them’ (VIDEO)  answer: False, But It’s A ‘Dre’ To Them’ To Be President Obama (VIDEO) answer: False, But It’s A ‘Dre’ To Be President Obama’s ‘Drease',\n",
       " \"Determine the topic of the news article. article: Why You Shouldn't Laugh at Someone Who Stutters answer: False, It’s A ‘Dreamer’  answer: Falsely Takes Himself With A ‘Dictators’  answer: Falsely Takes Himself With A ‘Dictators’ To Help Them’ (VIDEO)  answer: False, But It’s A ‘Dre’ To The Most ‘Drease’ Of The Most ‘Dictators’ To Help Them’ In The Most ‘Drease’ Of The Most ‘Drease\"]"
      ]
     },
     "execution_count": 40,
     "metadata": {},
     "output_type": "execute_result"
    }
   ],
   "source": [
    "tokenizer.batch_decode(pred, skip_special_tokens=True, clean_up_tokenization_spaces=False)"
   ]
  },
  {
   "cell_type": "code",
   "execution_count": 41,
   "id": "1d1103cc",
   "metadata": {},
   "outputs": [
    {
     "name": "stderr",
     "output_type": "stream",
     "text": [
      "100%|██████████| 25/25 [00:05<00:00,  4.88it/s]"
     ]
    },
    {
     "name": "stdout",
     "output_type": "stream",
     "text": [
      "val acc:  0.83\n"
     ]
    },
    {
     "name": "stderr",
     "output_type": "stream",
     "text": [
      "\n"
     ]
    }
   ],
   "source": [
    "model.eval()\n",
    "val_losses = []\n",
    "val_acc = 0\n",
    "\n",
    "for step, batch in enumerate(tqdm(val_dl)):\n",
    "    label = batch['label']\n",
    "    input_id= batch['input_ids'].to(device)\n",
    "\n",
    "    pred = model.generate(input_id, max_length=65)\n",
    "    decoded_pred = tokenizer.batch_decode(pred, skip_special_tokens=True, clean_up_tokenization_spaces=False)\n",
    "    decoded_pred = [re.findall(\"answer: ([a-z]+)\", x)[0] if re.findall(\"answer: ([a-z]+)\", x) else 'none' for x in decoded_pred]\n",
    "    decoded_pred = [label2int[x] if x in label2int else -1 for x in decoded_pred]\n",
    "\n",
    "    val_acc += acc(decoded_pred, label)\n",
    "    \n",
    "\n",
    "print(\"val acc: \", val_acc/len(val_dl.dataset))"
   ]
  },
  {
   "cell_type": "code",
   "execution_count": 42,
   "id": "66e8d24c",
   "metadata": {},
   "outputs": [],
   "source": [
    "model.save_pretrained('topic_llama_0618')"
   ]
  },
  {
   "cell_type": "code",
   "execution_count": null,
   "id": "090d3ccd",
   "metadata": {},
   "outputs": [],
   "source": [
    "# 모델의 사이즈가 커질수록 더 큰 pre-training 데이터로 학습을 할수록 더 많은 task에 대해서 일반화가 가능하다."
   ]
  }
 ],
 "metadata": {
  "kernelspec": {
   "display_name": "Python 3 (ipykernel)",
   "language": "python",
   "name": "python3"
  },
  "language_info": {
   "codemirror_mode": {
    "name": "ipython",
    "version": 3
   },
   "file_extension": ".py",
   "mimetype": "text/x-python",
   "name": "python",
   "nbconvert_exporter": "python",
   "pygments_lexer": "ipython3",
   "version": "3.11.7"
  }
 },
 "nbformat": 4,
 "nbformat_minor": 5
}
